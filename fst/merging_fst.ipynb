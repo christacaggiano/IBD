{
 "cells": [
  {
   "cell_type": "code",
   "execution_count": 1,
   "id": "47c0be61-9619-448a-af23-94663897eeaf",
   "metadata": {},
   "outputs": [],
   "source": [
    "import pandas as pd\n",
    "import seaborn as sns \n",
    "import matplotlib.pyplot as plt \n",
    "import numpy as np \n",
    "import warnings\n",
    "import pickle as pkl \n",
    "import math\n",
    "warnings.filterwarnings(\"ignore\")"
   ]
  },
  {
   "cell_type": "markdown",
   "id": "f97f7941-1446-452c-9d50-26e9196b8316",
   "metadata": {},
   "source": [
    "# functions"
   ]
  },
  {
   "cell_type": "code",
   "execution_count": null,
   "id": "b3f7bc4a-3bf2-4aee-a8e6-dff3d45d7514",
   "metadata": {},
   "outputs": [],
   "source": [
    "def check_in_list(pop1, pop2, list_of_clusters): \n",
    "    for i, clust in enumerate(list_of_clusters): \n",
    "        if pop1 in clust or pop2 in clust: \n",
    "            return i  \n",
    "    return -1"
   ]
  },
  {
   "cell_type": "code",
   "execution_count": null,
   "id": "524a6d87-73d9-4b12-97de-96e6467f75c1",
   "metadata": {},
   "outputs": [],
   "source": [
    "def add_single_clusters(pop, list_of_clusters): \n",
    "    for clust in list_of_clusters: \n",
    "        if pop in clust: \n",
    "            return True \n",
    "    return False "
   ]
  },
  {
   "cell_type": "code",
   "execution_count": null,
   "id": "492d655b-1517-452d-a406-95fd2f4daa9a",
   "metadata": {},
   "outputs": [],
   "source": [
    "def create_index_map(list_of_sets):\n",
    "    index_map = {}\n",
    "    for index, set_of_ids in enumerate(list_of_sets):\n",
    "        for sid in set_of_ids:\n",
    "            index_map[sid] = f\"cluster{index+1}\"\n",
    "    return index_map"
   ]
  },
  {
   "cell_type": "markdown",
   "id": "5f8268e1-59a1-4170-a064-12e5a225ca6f",
   "metadata": {},
   "source": [
    "# clusters \n",
    "read in louvain clusters "
   ]
  },
  {
   "cell_type": "code",
   "execution_count": null,
   "id": "047e58dd-98a3-4d0a-ae38-e16a89d5cde5",
   "metadata": {},
   "outputs": [],
   "source": [
    "clusters = pd.read_csv(\"louvain_clusters.csv\")\n",
    "clusters.columns = [\"sid\", \"l1\", \"l2\", \"l3\", \"name\"]"
   ]
  },
  {
   "cell_type": "markdown",
   "id": "20bef7a8-9d86-4a7a-a9f9-b0053bbd35b1",
   "metadata": {},
   "source": [
    "# fst \n",
    "read in plink fst output "
   ]
  },
  {
   "cell_type": "code",
   "execution_count": null,
   "id": "e4a0bf80-77f7-467c-87f7-ab463aa416f5",
   "metadata": {},
   "outputs": [],
   "source": [
    "fst = pd.read_csv(\"../../fst/fst.fst.summary\", sep=\"\\t\")"
   ]
  },
  {
   "cell_type": "markdown",
   "id": "84e6dcf9-03f6-4194-bc05-281699cff55f",
   "metadata": {},
   "source": [
    "# merge \n",
    "merge clusters based on fst "
   ]
  },
  {
   "cell_type": "code",
   "execution_count": null,
   "id": "8554b349-e3de-4de2-9b44-1fa119809546",
   "metadata": {},
   "outputs": [],
   "source": [
    "list_of_clusters = []\n",
    "fst_threshold = 0.001 # threshold of choice- any below will be merged\n",
    "min_cluster_size = 30 # minimum cluster size to consider for merging (small clusters will have unstable fst in some cases) \n",
    "cluster_sizes = clusters[\"name\"].value_counts().reset_index()\n",
    "\n",
    "for i, row in fst.iterrows(): # iterate over pairwise fst \n",
    "    pop1 = row[\"#POP1\"]\n",
    "    pop2 = row[\"POP2\"]\n",
    "    \n",
    "    if row[\"HUDSON_FST\"] < fst_threshold: # check if it is below threshold \n",
    "        idx = check_in_list(pop1, pop2, list_of_clusters) \n",
    "\n",
    "        # add the clusters to a list to be merged \n",
    "        if idx == -1:  \n",
    "            list_of_clusters.append(set([pop1, pop2]))\n",
    "        else: \n",
    "            list_of_clusters[idx].update([pop1, pop2])\n",
    "            \n",
    "# since this is pairwise, some clusters may be in the list twice (cluster1-cluster2 pass the threshold and cluster2-cluster3) \n",
    "# simplify the list and only consider clusters with a minimum cluster size\n",
    "# also, if cluster is large enough but does not meet the fst threshold with any other clsuter, keep it as its own cluster\n",
    "for i, c in cluster_sizes.iterrows():\n",
    "    if (not add_single_clusters(c[\"name\"], list_of_clusters)) and (c[\"count\"] >= min_cluster_size): \n",
    "        list_of_clusters.append(set([c[\"name\"]]))\n"
   ]
  },
  {
   "cell_type": "code",
   "execution_count": null,
   "id": "b1166bcc-5f13-4f61-9879-3d5061f0fc94",
   "metadata": {},
   "outputs": [],
   "source": [
    "# rename the merged clusters \n",
    "index_map = create_index_map(list_of_clusters)\n",
    "clusters[\"merged_cluster\"] = clusters[\"name\"].replace(index_map)"
   ]
  },
  {
   "cell_type": "code",
   "execution_count": null,
   "id": "deb89a32-6361-486c-920c-68d99e5daff0",
   "metadata": {},
   "outputs": [],
   "source": [
    "clusters[\"merged_cluster\"].nunique()"
   ]
  },
  {
   "cell_type": "markdown",
   "id": "1a06f95b-fdfe-41a6-8b42-daab13127c15",
   "metadata": {},
   "source": [
    "# finalize clusters \n",
    "for my analysis, i preferred clusters with > 30 or 50 individuals"
   ]
  },
  {
   "cell_type": "code",
   "execution_count": null,
   "id": "5c0dbd5a-cf77-4864-8448-e2a98071f267",
   "metadata": {},
   "outputs": [],
   "source": [
    "min_cluster_size = 30 \n",
    "\n",
    "new_cluster_counts = clusters[\"merged_cluster\"].value_counts().reset_index()\n",
    "largest_clusters = new_cluster_counts[new_cluster_counts[\"count\"] >= min_cluster_size ][\"merged_cluster\"].values"
   ]
  },
  {
   "cell_type": "code",
   "execution_count": null,
   "id": "17d6db77-25f4-4e9a-b862-fd3fbc93cb97",
   "metadata": {},
   "outputs": [],
   "source": [
    "updated_clusters = clusters[clusters[\"merged_cluster\"].isin(largest_clusters)]\n",
    "updated_clusters[[\"sid\", \"name\", \"merged_cluster\"]].to_csv(\"fst_merged/louvain_original_001.csv\", index=False)"
   ]
  }
 ],
 "metadata": {
  "kernelspec": {
   "display_name": "Python 3 (ipykernel)",
   "language": "python",
   "name": "python3"
  },
  "language_info": {
   "codemirror_mode": {
    "name": "ipython",
    "version": 3
   },
   "file_extension": ".py",
   "mimetype": "text/x-python",
   "name": "python",
   "nbconvert_exporter": "python",
   "pygments_lexer": "ipython3",
   "version": "3.11.5"
  }
 },
 "nbformat": 4,
 "nbformat_minor": 5
}
