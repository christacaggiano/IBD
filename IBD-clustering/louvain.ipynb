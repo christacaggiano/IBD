{
 "cells": [
  {
   "cell_type": "code",
   "execution_count": 19,
   "metadata": {},
   "outputs": [],
   "source": [
    "import community as community_louvain\n",
    "import matplotlib.cm as cm\n",
    "import matplotlib.pyplot as plt\n",
    "import networkx as nx\n",
    "import pandas as pd \n",
    "import numpy as np\n",
    "import os.path\n",
    "import seaborn as sns\n",
    "\n",
    "pd.options.mode.chained_assignment = None  \n",
    "sns.set(context='talk', style='white', rc={'figure.facecolor':'white'}, font_scale=1)"
   ]
  },
  {
   "cell_type": "markdown",
   "metadata": {},
   "source": [
    "# read ibd\n",
    "\n",
    "read the summed pairwise IBD calls after related individuals have been removed "
   ]
  },
  {
   "cell_type": "code",
   "execution_count": 2,
   "metadata": {},
   "outputs": [],
   "source": [
    "ibd = pd.read_csv(\"ibd.csv\", header=None)"
   ]
  },
  {
   "cell_type": "code",
   "execution_count": 3,
   "metadata": {},
   "outputs": [
    {
     "data": {
      "text/html": [
       "<div>\n",
       "<style scoped>\n",
       "    .dataframe tbody tr th:only-of-type {\n",
       "        vertical-align: middle;\n",
       "    }\n",
       "\n",
       "    .dataframe tbody tr th {\n",
       "        vertical-align: top;\n",
       "    }\n",
       "\n",
       "    .dataframe thead th {\n",
       "        text-align: right;\n",
       "    }\n",
       "</style>\n",
       "<table border=\"1\" class=\"dataframe\">\n",
       "  <thead>\n",
       "    <tr style=\"text-align: right;\">\n",
       "      <th></th>\n",
       "      <th>0</th>\n",
       "      <th>1</th>\n",
       "      <th>2</th>\n",
       "      <th>3</th>\n",
       "      <th>4</th>\n",
       "      <th>5</th>\n",
       "    </tr>\n",
       "  </thead>\n",
       "  <tbody>\n",
       "    <tr>\n",
       "      <th>0</th>\n",
       "      <td>('0_HGDP00837', '0_S_Surui-2')</td>\n",
       "      <td>3024.25587</td>\n",
       "      <td>187</td>\n",
       "      <td>0_HGDP00837</td>\n",
       "      <td>0_S_Surui-2</td>\n",
       "      <td>('0_HGDP00837', '0_S_Surui-2')</td>\n",
       "    </tr>\n",
       "    <tr>\n",
       "      <th>1</th>\n",
       "      <td>('0_HGDP00832', '0_HGDP00837')</td>\n",
       "      <td>2850.37362</td>\n",
       "      <td>196</td>\n",
       "      <td>0_HGDP00832</td>\n",
       "      <td>0_HGDP00837</td>\n",
       "      <td>('0_HGDP00832', '0_HGDP00837')</td>\n",
       "    </tr>\n",
       "    <tr>\n",
       "      <th>2</th>\n",
       "      <td>('0_HGDP00837', '0_HGDP00849')</td>\n",
       "      <td>2646.35156</td>\n",
       "      <td>176</td>\n",
       "      <td>0_HGDP00837</td>\n",
       "      <td>0_HGDP00849</td>\n",
       "      <td>('0_HGDP00837', '0_HGDP00849')</td>\n",
       "    </tr>\n",
       "    <tr>\n",
       "      <th>3</th>\n",
       "      <td>('0_HGDP00837', '0_HGDP00843')</td>\n",
       "      <td>2606.71754</td>\n",
       "      <td>144</td>\n",
       "      <td>0_HGDP00837</td>\n",
       "      <td>0_HGDP00843</td>\n",
       "      <td>('0_HGDP00837', '0_HGDP00843')</td>\n",
       "    </tr>\n",
       "    <tr>\n",
       "      <th>4</th>\n",
       "      <td>('0_HGDP00832', '0_HGDP00843')</td>\n",
       "      <td>2563.07138</td>\n",
       "      <td>169</td>\n",
       "      <td>0_HGDP00832</td>\n",
       "      <td>0_HGDP00843</td>\n",
       "      <td>('0_HGDP00832', '0_HGDP00843')</td>\n",
       "    </tr>\n",
       "  </tbody>\n",
       "</table>\n",
       "</div>"
      ],
      "text/plain": [
       "                                0           1    2            3            4  \\\n",
       "0  ('0_HGDP00837', '0_S_Surui-2')  3024.25587  187  0_HGDP00837  0_S_Surui-2   \n",
       "1  ('0_HGDP00832', '0_HGDP00837')  2850.37362  196  0_HGDP00832  0_HGDP00837   \n",
       "2  ('0_HGDP00837', '0_HGDP00849')  2646.35156  176  0_HGDP00837  0_HGDP00849   \n",
       "3  ('0_HGDP00837', '0_HGDP00843')  2606.71754  144  0_HGDP00837  0_HGDP00843   \n",
       "4  ('0_HGDP00832', '0_HGDP00843')  2563.07138  169  0_HGDP00832  0_HGDP00843   \n",
       "\n",
       "                                5  \n",
       "0  ('0_HGDP00837', '0_S_Surui-2')  \n",
       "1  ('0_HGDP00832', '0_HGDP00837')  \n",
       "2  ('0_HGDP00837', '0_HGDP00849')  \n",
       "3  ('0_HGDP00837', '0_HGDP00843')  \n",
       "4  ('0_HGDP00832', '0_HGDP00843')  "
      ]
     },
     "execution_count": 3,
     "metadata": {},
     "output_type": "execute_result"
    }
   ],
   "source": [
    "ibd.head() # the columns here are 0: the pair, 1: the total amount of ibd, 2: the total amount of segments shared, 3: ID1, 4: ID2, 5: the pair again for some reason"
   ]
  },
  {
   "cell_type": "code",
   "execution_count": 4,
   "metadata": {},
   "outputs": [],
   "source": [
    "# take only the ID1, ID2, and the total amount of IBD shared between the pair\n",
    "# make a matrix for clustering \n",
    "# if you only have these three columns you can start here \n",
    "\n",
    "ibd_matrix = ibd[[3, 4, 1]].values \n",
    "ibd = [] # removes ibd df from memory since it is no longer needed "
   ]
  },
  {
   "cell_type": "markdown",
   "metadata": {},
   "source": [
    "# make graph\n",
    "make undirected graph where each individual is a node of the graph and each edge is weighted by the total amount of shared IBD "
   ]
  },
  {
   "cell_type": "code",
   "execution_count": 2,
   "metadata": {},
   "outputs": [],
   "source": [
    "edges_list = list(map(tuple, ibd_matrix)) # getting list of nodes and edges in format for networkx "
   ]
  },
  {
   "cell_type": "code",
   "execution_count": 6,
   "metadata": {},
   "outputs": [],
   "source": [
    "G = nx.Graph() # defining an empty graph with networkx "
   ]
  },
  {
   "cell_type": "code",
   "execution_count": 7,
   "metadata": {},
   "outputs": [],
   "source": [
    "G.add_weighted_edges_from(edges_list) # add edge weights and nodes to the graph "
   ]
  },
  {
   "cell_type": "code",
   "execution_count": null,
   "metadata": {},
   "outputs": [],
   "source": [
    "edges_list = [] # removes from memory "
   ]
  },
  {
   "cell_type": "markdown",
   "metadata": {},
   "source": [
    "# initial louvain partitioning\n",
    "\n",
    "run louvain clustering over the graph for the first iteration "
   ]
  },
  {
   "cell_type": "code",
   "execution_count": null,
   "metadata": {},
   "outputs": [],
   "source": [
    "partition = community_louvain.best_partition(G) # run louvain clustering and return a partition (cluster assignment for each node)"
   ]
  },
  {
   "cell_type": "code",
   "execution_count": null,
   "metadata": {},
   "outputs": [],
   "source": [
    "max(partition.values()) # the number of clusterss"
   ]
  },
  {
   "cell_type": "code",
   "execution_count": null,
   "metadata": {},
   "outputs": [],
   "source": [
    "partition_df = pd.DataFrame.from_dict(partition,  orient=\"index\").reset_index() # make the partition into a dataframe"
   ]
  },
  {
   "cell_type": "code",
   "execution_count": 19,
   "metadata": {},
   "outputs": [],
   "source": [
    "partition_df.to_csv(\"louvain.csv\", index=False, header=False) # save dataframe"
   ]
  },
  {
   "cell_type": "markdown",
   "metadata": {},
   "source": [
    "# subpartition \n",
    "create subclusters from the initial louvain partitioning \n",
    "(this step will be relatively time consuming depending on the number of clusters you have) "
   ]
  },
  {
   "cell_type": "code",
   "execution_count": 4,
   "metadata": {},
   "outputs": [],
   "source": [
    "# iterate over every partition in the initial clustering\n",
    "for cluster in partition_df[0].unique(): \n",
    "    \n",
    "    nodes = partition_df[partition_df[0] == cluster][\"index\"].values # extract the nodes belonging to a given cluster\n",
    "    H = G.subgraph(nodes) # create a new graph only with the nodes from that cluster \n",
    "    \n",
    "    subpartition = community_louvain.best_partition(H) # run louvain again for that subgraph \n",
    "    \n",
    "    subpartition_df = pd.DataFrame.from_dict(subpartition,  orient=\"index\").reset_index() # create dataframe and save\n",
    "    subpartition_df.to_csv(f\"louvain_subcluster{cluster}.csv\", index=False)\n",
    "\n",
    "    # rerun for an additional level of clustering \n",
    "    for subcluster in subpartition[0].unique(): \n",
    "        nodes = subpartition_df[subpartition_df[0] == subcluster][\"index\"].values\n",
    "        I = H.subgraph(nodes) \n",
    "\n",
    "        final_partition = community_louvain.best_partition(H)\n",
    "        \n",
    "        final_partition_df = pd.DataFrame.from_dict(final_partition,  orient=\"index\").reset_index() \n",
    "        final_partition_df.to_csv(f\"louvain_subcluster{cluster}_{subcluster}.csv\", index=False)\n",
    "    "
   ]
  },
  {
   "cell_type": "markdown",
   "metadata": {},
   "source": [
    "# cluster properties \n",
    "you may also be interested in what properties the clusters have in network space "
   ]
  },
  {
   "cell_type": "code",
   "execution_count": 135,
   "metadata": {},
   "outputs": [],
   "source": [
    "cluster_num = 1 # pick a cluster of interest \n",
    "nodes = partition_df[partition_df[0] == cluster_num][0].values # pick a partition of interest "
   ]
  },
  {
   "cell_type": "code",
   "execution_count": 136,
   "metadata": {},
   "outputs": [],
   "source": [
    "H = G.subgraph(nodes) # make the subgraph of the cluster you are interested in "
   ]
  },
  {
   "cell_type": "markdown",
   "metadata": {},
   "source": [
    "## degree centrality \n",
    "the number of connections a node has (i.e., the number of people in the cluster an individual shares IBD with) "
   ]
  },
  {
   "cell_type": "code",
   "execution_count": 3,
   "metadata": {},
   "outputs": [],
   "source": [
    "# plot histogram \n",
    "plt.hist(list(nx.degree_centrality(H).values()), bins=20, color=\"#FF9AA2\")\n",
    "plt.xlabel(\"degree centrality\")\n",
    "plt.ylabel(\"number of nodes\")\n",
    "plt.title(f\"cluster{cluster_num}\")\n",
    "plt.show()"
   ]
  }
 ],
 "metadata": {
  "kernelspec": {
   "display_name": "Python 3 (ipykernel)",
   "language": "python",
   "name": "python3"
  },
  "language_info": {
   "codemirror_mode": {
    "name": "ipython",
    "version": 3
   },
   "file_extension": ".py",
   "mimetype": "text/x-python",
   "name": "python",
   "nbconvert_exporter": "python",
   "pygments_lexer": "ipython3",
   "version": "3.11.5"
  }
 },
 "nbformat": 4,
 "nbformat_minor": 4
}
