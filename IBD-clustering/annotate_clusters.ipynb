{
 "cells": [
  {
   "cell_type": "code",
   "execution_count": null,
   "id": "c9d69eb2-44f3-4a88-b93c-d8771dab963b",
   "metadata": {},
   "outputs": [],
   "source": [
    "import pandas as pd\n",
    "import seaborn as sns\n",
    "import matplotlib.pyplot as plt\n",
    "import numpy as np\n",
    "import os.path\n",
    "import warnings\n",
    "from natsort import natsorted\n",
    "\n",
    "warnings.simplefilter(action='ignore', category=FutureWarning)\n",
    "pd.options.mode.chained_assignment = None  # default='warn'\n",
    "\n",
    "sns.set(context='talk', style='white', rc={'figure.facecolor':'white'}, font_scale=1)\n",
    "sns.set_style('ticks')"
   ]
  },
  {
   "cell_type": "markdown",
   "id": "794dd7bd-2d35-40b2-a525-9f842338a814",
   "metadata": {},
   "source": [
    "# functions"
   ]
  },
  {
   "cell_type": "code",
   "execution_count": null,
   "id": "7e91c59f-7398-4544-a4ed-1ed54532e5e1",
   "metadata": {},
   "outputs": [],
   "source": [
    "def count_atlas(values): \n",
    "    \"\"\"\n",
    "    count the number of individuals belonging to only ATLAS in a cluster \n",
    "    \"\"\"\n",
    "\n",
    "    atlas = values[~values[\"split_id\"].str[0].str.isalpha()]\n",
    "    return atlas[\"split_id\"].nunique()"
   ]
  },
  {
   "cell_type": "code",
   "execution_count": null,
   "id": "308651bc-b76f-49f3-8b2e-ef096c412f71",
   "metadata": {},
   "outputs": [],
   "source": [
    "def remove_common_demo(top_values): \n",
    "    \"\"\"\n",
    "    for understanding demographics, remove the most common demographics that are not informative \n",
    "    for identifying diverse clusters \n",
    "    \"\"\"\n",
    "        \n",
    "    generic_categories = [\"White or Caucasian\", \"Not Hispanic or Latino\", \"English\", \"None\", \"No Religious Preference\",\n",
    "                          \"Unknown\", \"*Unspecified\", \"Patient Refused\"]\n",
    "    \n",
    "    return [x for x in top_values if x[0] not in generic_categories]"
   ]
  },
  {
   "cell_type": "code",
   "execution_count": null,
   "id": "470ee793-1312-410d-9951-730bf6752fe7",
   "metadata": {},
   "outputs": [],
   "source": [
    "def count_demo(values, column, keep):\n",
    "    \"\"\"\n",
    "    count the indviduals with specified demographic characteristics \n",
    "    \"\"\"\n",
    "    values = values[[\"sample_id\", column]].drop_duplicates(subset=\"sample_id\")\n",
    "    subset = values[column].dropna()\n",
    "\n",
    "    value_counts = subset.value_counts()\n",
    "    top_values = value_counts.iloc[:keep].items() if value_counts.nunique() > keep else value_counts.items()\n",
    "    \n",
    "    return remove_common_demo(list(top_values))\n"
   ]
  },
  {
   "cell_type": "code",
   "execution_count": null,
   "id": "5b8d99dd-3e94-4765-bc64-775bf5ab6a81",
   "metadata": {},
   "outputs": [],
   "source": [
    "def load_louvain(filename):\n",
    "    \"\"\"\n",
    "    read in louvain cluster assignments and preprocess the sample ids for analysis \n",
    "    \"\"\"\n",
    "    communities_id = pd.read_csv(filename, header=None, names=[\"sample_id\", \"cluster\"])\n",
    "    \n",
    "    communities_id[\"split_id\"] = communities_id[\"sample_id\"].str.split(\"_\", expand=True)[2].astype(str)\n",
    "    communities_id[\"sampleid\"] = communities_id[\"sample_id\"].str[2:]\n",
    "    \n",
    "    return communities_id\n"
   ]
  },
  {
   "cell_type": "code",
   "execution_count": null,
   "id": "7c0c96f7-274d-4c5b-b32d-e85775b24600",
   "metadata": {},
   "outputs": [],
   "source": [
    "def load_annotations(communities_id, reference, self_report):\n",
    "    \"\"\"\n",
    "    read in reference data and merge with louvain sample data \n",
    "    \"\"\"\n",
    "    \n",
    "    labels = pd.read_csv(reference, delimiter=\"\\t\")\n",
    "    labels.columns = [\"ID\", \"Population\", \"Region\", \"Continent\", \"Region2\"]\n",
    "    \n",
    "    labeled_clusters = labels.merge(communities_id, left_on=\"ID\", right_on=\"sampleid\", how=\"right\")\n",
    "    \n",
    "    labeled_clusters_demographics = labeled_clusters.merge(self_report, right_on=\"Bank_sample_id\", left_on=\"split_id\", how=\"outer\")\n",
    "    \n",
    "    return labeled_clusters_demographics"
   ]
  },
  {
   "cell_type": "markdown",
   "id": "0d5c6107-b036-4bf1-b9eb-a55d112b4577",
   "metadata": {},
   "source": [
    "# run annotation pipeline"
   ]
  },
  {
   "cell_type": "markdown",
   "id": "7f6c0ab6-3677-4fc4-a895-7e122f5fbef2",
   "metadata": {},
   "source": [
    "## self reported demographic characteristics "
   ]
  },
  {
   "cell_type": "code",
   "execution_count": null,
   "id": "ccbc0490-a248-4593-ac94-29461bf9a682",
   "metadata": {},
   "outputs": [],
   "source": [
    "self_report = pd.read_csv(\"../biobank_demographics_new2.csv\", low_memory=False).iloc[:-1, :]\n",
    "self_report = self_report.dropna(subset=[\"UniqueSampleID\"])\n",
    "self_report[\"Bank_sample_id\"] = self_report[\"UniqueSampleID\"].astype(int).astype(str)"
   ]
  },
  {
   "cell_type": "markdown",
   "id": "6eba5803-e21a-4244-ab74-e687ad57247b",
   "metadata": {},
   "source": [
    "## reference data"
   ]
  },
  {
   "cell_type": "code",
   "execution_count": null,
   "id": "2f06bf89-da27-4b76-b0b7-2e2107f6a678",
   "metadata": {},
   "outputs": [],
   "source": [
    "reference_data = \"../reference_labels\""
   ]
  },
  {
   "cell_type": "markdown",
   "id": "5c82403b-c21b-47f7-9913-eba964a78673",
   "metadata": {},
   "source": [
    "## run for specific level of louvain clustering "
   ]
  },
  {
   "cell_type": "code",
   "execution_count": null,
   "id": "e42c2cad-10b3-4081-967f-7e0a07ef014e",
   "metadata": {},
   "outputs": [],
   "source": [
    "max_number_of_clusters = 10 # the max number of louvain clusters you have\n",
    "num_demo_to_report = 5 # the number of demographic characteristics you want output\n",
    "\n",
    "for i in range(max_number_of_clusters): \n",
    "\n",
    "    fname = f\"louvain_subcluster{i}.csv\" \n",
    "\n",
    "    if os.path.isfile(fname):\n",
    "\n",
    "        communities = load_louvain(fname) # read in louvain file \n",
    "        labeled_communities = load_annotations(communities, reference, self_report) # annotate with reference data and self-report demographics\n",
    "\n",
    "        # calculate overall cluster size and atlas only cluster size \n",
    "        cluster_size = labeled_communities.groupby(\"cluster\")[\"sample_id\"].nunique().values\n",
    "        atlas_size = labeled_communities.groupby(\"cluster\").apply(count_atlas).values\n",
    "\n",
    "        # find the top demographic characteristics per cluster to generate asummary \n",
    "        language = labeled_communities.groupby(\"cluster\").apply(count_demo, \"PreferredLanguage\", num_demo_to_report).values\n",
    "        population = labeled_communities.groupby(\"cluster\").apply(count_demo, \"Population\", num_demo_to_report).values\n",
    "        ethnicity = labeled_communities.groupby(\"cluster\").apply(count_demo, \"Ethnicity\", num_demo_to_report).values\n",
    "        race = labeled_communities.groupby(\"cluster\").apply(count_demo, \"FirstRace\", num_demo_to_report).values\n",
    "        religion = labeled_communities.groupby(\"cluster\").apply(count_demo, \"SimpleReligion\", num_demo_to_report).values\n",
    "\n",
    "        # make a summary dataframe with the top characteristics and statistics per cluster\n",
    "        cluster_demo = pd.DataFrame([list(range(1, len(cluster_size)+1)), cluster_size, atlas_size, population, race, ethnicity, language, religion]).T\n",
    "        cluster_demo.columns = [\"cluster\", \"total size\", \"atlas size\", \"reference\", \"race\", \"ethnicity\", \"language\", \"religion\"]\n",
    "        cluster_demo[\"subcluster\"] = i \n",
    "\n",
    "        # output to csv, in add mode, so that each cluster as you iterate over it will be included in the output \n",
    "        cluster_demo.to_csv(\"louvain_cluster_demographics_summary.csv\", mode=\"a\", index=False, header=None)\n"
   ]
  }
 ],
 "metadata": {
  "kernelspec": {
   "display_name": "Python 3 (ipykernel)",
   "language": "python",
   "name": "python3"
  },
  "language_info": {
   "codemirror_mode": {
    "name": "ipython",
    "version": 3
   },
   "file_extension": ".py",
   "mimetype": "text/x-python",
   "name": "python",
   "nbconvert_exporter": "python",
   "pygments_lexer": "ipython3",
   "version": "3.11.5"
  }
 },
 "nbformat": 4,
 "nbformat_minor": 5
}
