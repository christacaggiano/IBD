{
 "cells": [
  {
   "cell_type": "code",
   "execution_count": 2,
   "id": "85b4d29a-7dda-41c2-b895-25e79d70396c",
   "metadata": {},
   "outputs": [],
   "source": [
    "import pandas as pd\n",
    "import seaborn as sns \n",
    "import matplotlib.pyplot as plt \n",
    "import numpy as np \n",
    "import warnings\n",
    "import pickle as pkl \n",
    "from sklearn.utils.class_weight import compute_class_weight\n",
    "import math\n",
    "import csv\n",
    "from sklearn.model_selection import cross_val_predict, StratifiedKFold, KFold\n",
    "from sklearn.linear_model import LogisticRegression\n",
    "from sklearn.metrics import confusion_matrix, precision_score, accuracy_score\n",
    "warnings.filterwarnings(\"ignore\")"
   ]
  },
  {
   "cell_type": "markdown",
   "id": "449ae7fb-8453-4452-acad-3f0dbe83a94e",
   "metadata": {},
   "source": [
    "# demographics and reference data \n",
    "biobank demographics data "
   ]
  },
  {
   "cell_type": "code",
   "execution_count": null,
   "id": "093bb614-41a5-411e-baf0-f9f02ac2bb91",
   "metadata": {},
   "outputs": [],
   "source": [
    "demo = pd.read_csv(\"../../pheno/Demographics.txt\", sep=\"|\", low_memory=False)"
   ]
  },
  {
   "cell_type": "code",
   "execution_count": null,
   "id": "d3f02aaf-a57f-4c16-9369-df59de4517a9",
   "metadata": {},
   "outputs": [],
   "source": [
    "ref = pd.read_csv(\"../reference_data.txt\", sep=\"\\t\")"
   ]
  },
  {
   "cell_type": "markdown",
   "id": "90b6fb2a-30f7-47fe-a4c6-b8d3ab87392a",
   "metadata": {},
   "source": [
    "# clusters \n",
    "final louvain clusters after merging "
   ]
  },
  {
   "cell_type": "code",
   "execution_count": null,
   "id": "3fb83ac8-340a-44a0-b0d4-fa6661dfa759",
   "metadata": {},
   "outputs": [],
   "source": [
    "clusters = pd.read_csv(\"fst_merged/louvain_original_001.csv\")\n",
    "clusters.columns = [\"sid\", \"old_cluster\", \"name\"]"
   ]
  },
  {
   "cell_type": "markdown",
   "id": "611fcce9-75c0-43b9-abef-e336bedec07d",
   "metadata": {},
   "source": [
    "# ancestry \n",
    "information about country of birth "
   ]
  },
  {
   "cell_type": "code",
   "execution_count": null,
   "id": "ef7aec65-a4f7-4abb-bfd7-b2c15a7ad7d4",
   "metadata": {},
   "outputs": [],
   "source": [
    "def set_ancestor_countries(df, columns, new_column, default_column, threshold=2): \n",
    "        \n",
    "    mode_values = df[columns].mode(axis=1).iloc[:, 0]\n",
    "    country_occurences = df[columns].apply(pd.value_counts, axis=1)\n",
    "    most_common_country = mode_values[country_occurences.max(axis=1) >= threshold]\n",
    "\n",
    "    df[new_column] = df[default_column]\n",
    "    df.loc[most_common_country.index, new_column] = most_common_country\n",
    "    "
   ]
  },
  {
   "cell_type": "code",
   "execution_count": null,
   "id": "8d6c917f-fb4a-45f7-b17a-5bf53804ed96",
   "metadata": {},
   "outputs": [],
   "source": [
    "ancestry = pd.read_csv(\"../../pheno/ancestry.txt\", sep=\"\\t\")"
   ]
  },
  {
   "cell_type": "markdown",
   "id": "5050afa1-f7b3-42ad-92b6-24be16a1b19d",
   "metadata": {},
   "source": [
    "# merged datasets "
   ]
  },
  {
   "cell_type": "code",
   "execution_count": null,
   "id": "183a7367-0a68-4f04-9656-71850759b32c",
   "metadata": {},
   "outputs": [],
   "source": [
    "clusters_ancestry = ancestry.merge(clusters[[\"SUBJECT_ID\", \"name\", \"sid\"]], \n",
    "                                  left_on=\"subject_id\", right_on=\"SUBJECT_ID\", \n",
    "                                  how=\"right\")\n",
    "\n",
    "clusters_demo = demo.merge(clusters[[\"SUBJECT_ID\", \"name\", \"sid\"]], \n",
    "                                  left_on=\"subject_id\", right_on=\"SUBJECT_ID\", \n",
    "                                  how=\"right\")\n",
    "\n",
    "clusters_ref = clusters.merge(ref, left_on=\"sid\", right_on=\"SGDP_ID\", how=\"left\")"
   ]
  },
  {
   "cell_type": "code",
   "execution_count": null,
   "id": "4777a89a-6b4d-48bd-9433-989a4ef999e9",
   "metadata": {},
   "outputs": [],
   "source": [
    "# clean cluster information \n",
    "\n",
    "clusters_demo[\"religion\"] = clusters_demo[\"religion\"].replace({\"UNAFFILIATED/NONE\":np.nan,\n",
    "                                       \"UNKNOWN/UNABLE TO OBTAIN\":np.nan, \n",
    "                                       \"PATIENT DECLINED\":np.nan})\n",
    "clusters_ancestry = clusters_ancestry.replace({\" USA\":np.nan})\n",
    "clusters_ancestry = clusters_ancestry.replace({\"Unknown or Not reported\":np.nan})"
   ]
  },
  {
   "cell_type": "code",
   "execution_count": null,
   "id": "bcf463b5-2c50-498e-a7c9-d86ec019e42f",
   "metadata": {},
   "outputs": [],
   "source": [
    "# parental origin \n",
    "birth_places = [\"MOTHER_BIRTHPLACE\", \"FATHER_BIRTHPLACE\"]\n",
    "set_ancestor_countries(clusters_ancestry, birth_places, \"parental_origin\", \"COUNTRY_OF_BIRTH\", threshold=2)"
   ]
  },
  {
   "cell_type": "code",
   "execution_count": null,
   "id": "53a610d0-01ac-4af5-b4a5-68932ebdd7e1",
   "metadata": {},
   "outputs": [],
   "source": [
    "# grandparental origin \n",
    "\n",
    "\n",
    "birth_places = [\"PAT_GRANDFATHER_BIRTHPLACE\", \"PAT_GRANDMOTHER_BIRTHPLACE\", \n",
    "               \"MAT_GRANDFATHER_BIRTHPLACE\", \"MAT_GRANDMOTHER_BIRTHPLACE\"]\n",
    "\n",
    "set_ancestor_countries(clusters_ancestry, birth_places, \"grandparental_origin\", \"parental_origin\", threshold=3)"
   ]
  },
  {
   "cell_type": "markdown",
   "id": "c82b6950-a1ee-4d5d-b66d-9370c3c08284",
   "metadata": {},
   "source": [
    "# PPV \n",
    "\n",
    "calculate positive predictive value of each characteristic per cluster "
   ]
  },
  {
   "cell_type": "code",
   "execution_count": null,
   "id": "6b6a0e92-6b3e-484c-bb57-2e698453245c",
   "metadata": {},
   "outputs": [],
   "source": [
    "def calculate_ppv(estimated_categories):\n",
    "    \"\"\"\n",
    "    calculate the positive predictive value of predicted demographic attributes vs the known demographic attributes per cluster\n",
    "    \"\"\"\n",
    "    max_ppv_list = []\n",
    "\n",
    "    for cluster, subset in estimated_categories.groupby(\"cluster_name\"):\n",
    "\n",
    "        ppv = precision_score(subset[\"true_label\"], subset[\"predicted_label\"], average=None)\n",
    "\n",
    "        true_labels = sorted(set(list(subset[\"true_label\"]) + list(subset[\"predicted_label\"])))\n",
    "        ppv_df = pd.DataFrame({\"true\": true_labels, \"ppv\": ppv})\n",
    "\n",
    "        ppv_df = ppv_df[ppv_df[\"ppv\"] > 0]\n",
    "        top = ppv_df.groupby(\"true\")[\"ppv\"].max().nlargest(3)\n",
    "        max_ppv_list.append([cluster, list(zip(top.index, top.values))])\n",
    "        \n",
    "    return pd.DataFrame(max_ppv_list)"
   ]
  },
  {
   "cell_type": "code",
   "execution_count": 3,
   "id": "c2710fc2-6e53-4ac2-b134-f2d14f6eabea",
   "metadata": {},
   "outputs": [],
   "source": [
    "def perform_ppv_prediction(df, variable_column, cluster_column, K=5): \n",
    "    \"\"\"\n",
    "    predict c\n",
    "    \"\"\"\n",
    "    \n",
    "    df = df.dropna(subset=[variable_column])\n",
    "    \n",
    "    X = pd.get_dummies(df[cluster_column], dtype=float)\n",
    "    Y = pd.factorize(df[variable_column])[0]\n",
    "    \n",
    "    true_labels_dict = dict(enumerate(pd.factorize(df[variable_column])[1]))\n",
    "    \n",
    "    logreg = LogisticRegression(multi_class=\"multinomial\")  # perform a multinomial logisitc regression for the demographic category\n",
    "    predicted = cross_val_predict(logreg, X, Y, cv=StratifiedKFold(n_splits=K), method=\"predict\")  # do cross validation and predict the labels \n",
    "    \n",
    "    estimated_categories = pd.DataFrame(zip(Y, predicted), columns=[\"true\", \"predicted\"])\n",
    "    \n",
    "    estimated_categories[\"true_label\"] = estimated_categories[\"true\"].replace(true_labels_dict)\n",
    "    estimated_categories[\"predicted_label\"] = estimated_categories[\"predicted\"].replace(true_labels_dict)\n",
    "    estimated_categories[\"cluster_name\"] = df[cluster_column].values\n",
    "    \n",
    "    ppv_df = calculate_ppv(estimated_categories) # calculate the ppv for the predicted labels \n",
    "    ppv_df.columns = [\"cluster_name\", f\"{variable_column}_ppv\"]\n",
    "    \n",
    "    return ppv_df\n",
    "    "
   ]
  },
  {
   "cell_type": "markdown",
   "id": "113cbb38-28ad-47ea-adf6-4f8e6a5f52a8",
   "metadata": {},
   "source": [
    "## country of origin ppv"
   ]
  },
  {
   "cell_type": "code",
   "execution_count": null,
   "id": "e306ac7b-a308-40b1-bcf7-fc2813310f68",
   "metadata": {},
   "outputs": [],
   "source": [
    "birth_ppv = perform_ppv_prediction(clusters_ancestry, \"COUNTRY_OF_BIRTH\", \"name\")\n",
    "parent_birth_ppv = perform_ppv_prediction(clusters_ancestry, \"parental_origin\", \"name\")\n",
    "grandparent_birth_ppv = perform_ppv_prediction(clusters_ancestry, \"grandparental_origin\", \"name\")"
   ]
  },
  {
   "cell_type": "markdown",
   "id": "908c5689-9d05-4796-bffd-276083c78154",
   "metadata": {},
   "source": [
    "## heritage ppv "
   ]
  },
  {
   "cell_type": "code",
   "execution_count": null,
   "id": "f70b34dd-cfb2-47dd-a1f8-b5040315bfc5",
   "metadata": {},
   "outputs": [],
   "source": [
    "heritage_ppv = perform_ppv_prediction(clusters_ancestry, \"DESCRIPT_OF_HERITAGE\", \"name\")"
   ]
  },
  {
   "cell_type": "markdown",
   "id": "04e278e2-8435-469f-861f-ccc3d825b7c3",
   "metadata": {},
   "source": [
    "## reference data ppv "
   ]
  },
  {
   "cell_type": "code",
   "execution_count": null,
   "id": "f06f0280-bf62-4f1c-a744-fb6b6e85df13",
   "metadata": {},
   "outputs": [],
   "source": [
    "ref_ppv = perform_ppv_prediction(clusters_ref, \"Population_ID\", \"name\")\n",
    "region_ref_ppv = perform_ppv_prediction(clusters_ref, \"Region2\", \"name\")"
   ]
  },
  {
   "cell_type": "markdown",
   "id": "6819b243-7477-4879-9860-a1518b09fe97",
   "metadata": {},
   "source": [
    "## religion ppv"
   ]
  },
  {
   "cell_type": "code",
   "execution_count": 5,
   "id": "b0307b2b-bf04-4fb1-b01e-19dbfa3a6b42",
   "metadata": {},
   "outputs": [],
   "source": [
    "religion_ppv = perform_ppv_prediction(clusters_demo, \"religion\", \"name\")"
   ]
  },
  {
   "cell_type": "markdown",
   "id": "2a9fb795-0900-4632-8255-7463cdaf23fa",
   "metadata": {},
   "source": [
    "# combine ppv data"
   ]
  },
  {
   "cell_type": "code",
   "execution_count": null,
   "id": "dd878dff-1ce2-47aa-a401-40137b96f056",
   "metadata": {},
   "outputs": [],
   "source": [
    "df_list = [ref_ppv, region_ref_ppv, religion_ppv, heritage_ppv, \n",
    "           birth_ppv, parent_birth_ppv, grandparent_birth_ppv]\n",
    "\n",
    "ppv_df = pd.merge(df_list[0], df_list[1], on=\"cluster_name\", how=\"outer\")\n",
    "\n",
    "for i in range(2, len(df_list)):\n",
    "    ppv_df = pd.merge(ppv_df, df_list[i], on=\"cluster_name\", how=\"outer\")"
   ]
  },
  {
   "cell_type": "code",
   "execution_count": null,
   "id": "71849dd6-9d7a-4b13-afe5-383f4ed02a8d",
   "metadata": {},
   "outputs": [],
   "source": [
    "ppv_df.head()"
   ]
  }
 ],
 "metadata": {
  "kernelspec": {
   "display_name": "Python 3 (ipykernel)",
   "language": "python",
   "name": "python3"
  },
  "language_info": {
   "codemirror_mode": {
    "name": "ipython",
    "version": 3
   },
   "file_extension": ".py",
   "mimetype": "text/x-python",
   "name": "python",
   "nbconvert_exporter": "python",
   "pygments_lexer": "ipython3",
   "version": "3.11.5"
  }
 },
 "nbformat": 4,
 "nbformat_minor": 5
}
